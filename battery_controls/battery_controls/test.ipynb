{
 "cells": [
  {
   "cell_type": "code",
   "execution_count": null,
   "metadata": {},
   "outputs": [],
   "source": [
    "import pybamm\n",
    "import pandas as pd\n",
    "\n",
    "pybamm.set_logging_level(\"INFO\")"
   ]
  },
  {
   "cell_type": "code",
   "execution_count": null,
   "metadata": {},
   "outputs": [],
   "source": [
    "model = pybamm.equivalent_circuit.Thevenin(options={'number of rc elements':3}, build=False)\n",
    "# model.print_parameter_info()"
   ]
  },
  {
   "cell_type": "code",
   "execution_count": null,
   "metadata": {},
   "outputs": [],
   "source": [
    "model.submodels['Open-circuit voltage'] = pybamm.equivalent_circuit_elements.OCVElement()\n",
    "model.submodels['Element-0 (Resistor)'] = pybamm.equivalent_circuit_elements.ResistorElement()\n",
    "model.submodels['Element-1 (RC)'] = pybamm.equivalent_circuit_elements.RCElement()\n",
    "model.submodels['Element-2 (RC)'] = pybamm.equivalent_circuit_elements.RCElement()\n",
    "model.submodels['Element-3 (RC)'] = pybamm.equivalent_circuit_elements.RCElement()"
   ]
  },
  {
   "cell_type": "code",
   "execution_count": null,
   "metadata": {},
   "outputs": [],
   "source": [
    "model.build_model()"
   ]
  }
 ],
 "metadata": {
  "kernelspec": {
   "display_name": "base",
   "language": "python",
   "name": "python3"
  },
  "language_info": {
   "codemirror_mode": {
    "name": "ipython",
    "version": 3
   },
   "file_extension": ".py",
   "mimetype": "text/x-python",
   "name": "python",
   "nbconvert_exporter": "python",
   "pygments_lexer": "ipython3",
   "version": "3.10.11"
  },
  "orig_nbformat": 4
 },
 "nbformat": 4,
 "nbformat_minor": 2
}
